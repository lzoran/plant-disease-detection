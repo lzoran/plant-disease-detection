{
 "cells": [
  {
   "cell_type": "markdown",
   "metadata": {
    "id": "02Bjc8ZBMExU",
    "colab_type": "text"
   },
   "source": [
    "# Plant disease detection"
   ]
  },
  {
   "cell_type": "markdown",
   "metadata": {
    "id": "AlkzAOxakFWA",
    "colab_type": "text"
   },
   "source": [
    "### Configuration"
   ]
  },
  {
   "cell_type": "code",
   "execution_count": 0,
   "metadata": {
    "id": "aKfGCs-6TusA",
    "colab_type": "code",
    "colab": {}
   },
   "outputs": [],
   "source": [
    "# auth\n",
    "!apt-get install -y -qq software-properties-common python-software-properties module-init-tools\n",
    "!add-apt-repository -y ppa:alessandro-strada/ppa 2>&1 > /dev/null\n",
    "!apt-get update -qq 2>&1 > /dev/null\n",
    "!apt-get -y install -qq google-drive-ocamlfuse fuse\n",
    "from google.colab import auth\n",
    "auth.authenticate_user()\n",
    "from oauth2client.client import GoogleCredentials\n",
    "creds = GoogleCredentials.get_application_default()\n",
    "import getpass\n",
    "!google-drive-ocamlfuse -headless -id={creds.client_id} -secret={creds.client_secret} < /dev/null 2>&1 | grep URL\n",
    "vcode = getpass.getpass()\n",
    "!echo {vcode} | google-drive-ocamlfuse -headless -id={creds.client_id} -secret={creds.client_secret}\n",
    "\n",
    "# mount google drive\n",
    "!mkdir -p drive\n",
    "!google-drive-ocamlfuse drive"
   ]
  },
  {
   "cell_type": "markdown",
   "metadata": {
    "id": "xt2ip_pjMXoY",
    "colab_type": "text"
   },
   "source": [
    "### Dependencies\n"
   ]
  },
  {
   "cell_type": "code",
   "execution_count": 0,
   "metadata": {
    "id": "exB3eZrkCDCH",
    "colab_type": "code",
    "colab": {}
   },
   "outputs": [],
   "source": [
    "# install dependencies\n",
    "!pip install keras==2.1.6\n",
    "!pip install keras-vis==0.4.1"
   ]
  },
  {
   "cell_type": "code",
   "execution_count": 0,
   "metadata": {
    "id": "9GGI_rmocn7z",
    "colab_type": "code",
    "colab": {}
   },
   "outputs": [],
   "source": [
    "# import dependencies\n",
    "from keras.callbacks import ModelCheckpoint\n",
    "from keras.optimizers import Adam\n",
    "from keras.utils import Sequence\n",
    "from keras.utils import np_utils\n",
    "from keras.applications.resnet50 import ResNet50\n",
    "\n",
    "import numpy as np\n",
    "\n",
    "import os\n",
    "\n",
    "from PIL import Image"
   ]
  },
  {
   "cell_type": "markdown",
   "metadata": {
    "id": "l_yv41QXNGTO",
    "colab_type": "text"
   },
   "source": [
    "### Classes"
   ]
  },
  {
   "cell_type": "markdown",
   "metadata": {
    "id": "7OYFRzLEkZ8S",
    "colab_type": "text"
   },
   "source": [
    "List of classes:\n",
    "*   Apple: Apple scab\n",
    "*   Apple: Black rot\n",
    "*   Apple: Cedar apple rust\n",
    "*   Apple: healthy\n",
    "*   Blueberry: healthy\n",
    "*   Cherry (including sour): healthy\n",
    "*   Cherry (including sour): Powdery mildew\n",
    "*   Corn (maize): Cercospora leaf spot, Gray leaf spot\n",
    "*   Corn (maize): Common rust\n",
    "*   Corn (maize): healthy\n",
    "*   Corn (maize): Northern Leaf Blight\n",
    "*   Grape: Black rot\n",
    "*   Grape: Esca (Black Measles)\n",
    "*   Grape: healthy\n",
    "*   Grape: Leaf blight (Isariopsis Leaf Spot)\n",
    "*   Orange: Haunglongbing (Citrus greening)\n",
    "*   Peach: Bacterial spot\n",
    "*   Peach: healthy\n",
    "*   Pepper bell: Bacterial spot\n",
    "*   Pepper bell: healthy\n",
    "*   Potato: Early blight\n",
    "*   Potato: healthy\n",
    "*   Potato: Late blight\n",
    "*   Raspberry: healthy\n",
    "*   Soybean: healthy\n",
    "*   Squash: Powdery mildew\n",
    "*   Strawberry: healthy\n",
    "*   Strawberry: Leaf scorch\n",
    "*   Tomato: Bacterial spot\n",
    "*   Tomato: Early blight\n",
    "*   Tomato: healthy\n",
    "*   Tomato: Late blight\n",
    "*   Tomato: Leaf Mold\n",
    "*   Tomato: Septoria leaf spot\n",
    "*   Tomato: Spider mites, Two spotted spider mite\n",
    "*   Tomato: Target Spot\n",
    "*   Tomato: Tomato mosaic virus\n",
    "*   Tomato: Tomato Yellow Leaf Curl Virus"
   ]
  },
  {
   "cell_type": "code",
   "execution_count": 0,
   "metadata": {
    "id": "oi6vEKe8ethR",
    "colab_type": "code",
    "colab": {}
   },
   "outputs": [],
   "source": [
    "# define classes\n",
    "classes = {\n",
    "    'Apple___Apple_scab': 0,\n",
    "    'Apple___Black_rot': 1,\n",
    "    'Apple___Cedar_apple_rust': 2,\n",
    "    'Apple___healthy': 3,\n",
    "    'Blueberry___healthy': 4,\n",
    "    'Cherry_(including_sour)___healthy': 5,\n",
    "    'Cherry_(including_sour)___Powdery_mildew': 6,\n",
    "    'Corn_(maize)___Cercospora_leaf_spot Gray_leaf_spot': 7,\n",
    "    'Corn_(maize)___Common_rust_': 8,\n",
    "    'Corn_(maize)___healthy': 9,\n",
    "    'Corn_(maize)___Northern_Leaf_Blight': 10,\n",
    "    'Grape___Black_rot': 11,\n",
    "    'Grape___Esca_(Black_Measles)': 12,\n",
    "    'Grape___healthy': 13,\n",
    "    'Grape___Leaf_blight_(Isariopsis_Leaf_Spot)': 14,\n",
    "    'Orange___Haunglongbing_(Citrus_greening)': 15,\n",
    "    'Peach___Bacterial_spot': 16,\n",
    "    'Peach___healthy': 17,\n",
    "    'Pepper,_bell___Bacterial_spot': 18,\n",
    "    'Pepper,_bell___healthy': 19,\n",
    "    'Potato___Early_blight': 20,\n",
    "    'Potato___healthy': 21,\n",
    "    'Potato___Late_blight': 22,\n",
    "    'Raspberry___healthy': 23,\n",
    "    'Soybean___healthy': 24,\n",
    "    'Squash___Powdery_mildew': 25,\n",
    "    'Strawberry___healthy': 26,\n",
    "    'Strawberry___Leaf_scorch': 27,\n",
    "    'Tomato___Bacterial_spot': 28,\n",
    "    'Tomato___Early_blight': 29,\n",
    "    'Tomato___healthy': 30,\n",
    "    'Tomato___Late_blight': 31,\n",
    "    'Tomato___Leaf_Mold': 32,\n",
    "    'Tomato___Septoria_leaf_spot': 33,\n",
    "    'Tomato___Spider_mites Two-spotted_spider_mite': 34,\n",
    "    'Tomato___Target_Spot': 35,\n",
    "    'Tomato___Tomato_mosaic_virus': 36,\n",
    "    'Tomato___Tomato_Yellow_Leaf_Curl_Virus': 37\n",
    "}"
   ]
  },
  {
   "cell_type": "markdown",
   "metadata": {
    "id": "GnYYipPUagBc",
    "colab_type": "text"
   },
   "source": [
    "### Data\n"
   ]
  },
  {
   "cell_type": "code",
   "execution_count": 0,
   "metadata": {
    "id": "9lhH5u_orwnd",
    "colab_type": "code",
    "colab": {}
   },
   "outputs": [],
   "source": [
    "# fetch dataset\n",
    "!git clone https://github.com/lzoran/plant-disease-dataset.git\n",
    "# generate train and test sets\n",
    "%cd plant-disease-dataset\n",
    "!rm -rf train\n",
    "!rm -rf test\n",
    "!python3 -c 'from build_dataset import build_dataset; build_dataset()'\n",
    "%cd ../\n",
    "# display dataset structure\n",
    "!ls plant-disease-dataset"
   ]
  },
  {
   "cell_type": "code",
   "execution_count": 0,
   "metadata": {
    "id": "YQFmv4i3Q2Wz",
    "colab_type": "code",
    "colab": {}
   },
   "outputs": [],
   "source": [
    "def load_data(path):\n",
    "    items = []\n",
    "    labels = []\n",
    "    \n",
    "    counter = 0\n",
    "    for subdir, dirs, files in os.walk(path):\n",
    "        for file in files:\n",
    "            img = Image.open(os.path.join(subdir, file))\n",
    "            img = img.resize((224, 224), Image.ANTIALIAS)\n",
    "            img_array = np.asarray(img)\n",
    "            \n",
    "            # sanitize dimensions\n",
    "            if (img_array.shape != (224, 224, 3)):\n",
    "                if img_array.shape[2] > 3:\n",
    "                    img_array = img_array[:,:,:3] # remove alpha channel\n",
    "                else:\n",
    "                    img.close()\n",
    "                    continue\n",
    "           \n",
    "            items.append(img_array)\n",
    "            img.close()\n",
    "\n",
    "            folder_name = os.path.basename(subdir)\n",
    "            labels.append(classes[folder_name])\n",
    "            \n",
    "        if len(files) > 0:\n",
    "            counter += 1\n",
    "            print('{}/38'.format(counter), end='\\r')\n",
    "\n",
    "    print('\\nData successfully loaded')\n",
    "    items = np.asarray(items)\n",
    "    labels = np.asarray(labels)\n",
    "\n",
    "    return items, labels\n",
    "\n",
    "\n",
    "def load_raw_data(path):\n",
    "    items = []\n",
    "    labels = []\n",
    "\n",
    "    counter = 0\n",
    "    for subdir, dirs, files in os.walk(path):\n",
    "        for file in files:\n",
    "            items.append(os.path.join(subdir, file))\n",
    "\n",
    "            folder_name = os.path.basename(subdir)\n",
    "            labels.append(classes[folder_name])\n",
    "\n",
    "        if len(files) > 0:\n",
    "            counter += 1\n",
    "            print('{}/38'.format(counter), end='\\r')\n",
    "\n",
    "    print('\\nData successfully loaded')\n",
    "    items = np.asarray(items)\n",
    "    labels = np.asarray(labels)\n",
    "\n",
    "    return items, labels"
   ]
  },
  {
   "cell_type": "code",
   "execution_count": 0,
   "metadata": {
    "id": "UelYt35azhDV",
    "colab_type": "code",
    "colab": {}
   },
   "outputs": [],
   "source": [
    "class DataSequence(Sequence):\n",
    "    def __init__(self, file_paths, labels, batch_size):\n",
    "        \"\"\"\n",
    "        :param file_paths: list of paths to the images\n",
    "        :param labels: list of associated classes\n",
    "        :param batch_size: batch size\n",
    "        \"\"\"\n",
    "\n",
    "        self.file_paths = file_paths\n",
    "        self.labels = labels\n",
    "        self.batch_size = batch_size\n",
    "\n",
    "    def __len__(self):\n",
    "        return int(np.ceil(len(self.file_paths) / float(self.batch_size)))\n",
    "\n",
    "    def __getitem__(self, idx):\n",
    "        batch_x = self.file_paths[idx * self.batch_size:(idx + 1) * self.batch_size]\n",
    "        batch_y = self.labels[idx * self.batch_size:(idx + 1) * self.batch_size]\n",
    "\n",
    "        items = []\n",
    "        for file_path in batch_x:\n",
    "            img = Image.open(file_path)\n",
    "            img = img.resize((224, 224), Image.ANTIALIAS)\n",
    "            img_array = np.asarray(img)\n",
    "            \n",
    "            # sanitize dimensions\n",
    "            if (img_array.shape != (224, 224, 3)):\n",
    "                if img_array.shape[2] > 3:\n",
    "                    img_array = img_array[:,:,:3] # remove alpha channel\n",
    "                else:\n",
    "                    img.close()\n",
    "                    continue\n",
    "           \n",
    "            items.append(img_array)\n",
    "            img.close()\n",
    "            \n",
    "        items = np.asarray(items)\n",
    "        labels = np.asarray(batch_y)\n",
    "        \n",
    "        # normalize items\n",
    "        items = items.astype('float32')\n",
    "        items /= 255\n",
    "\n",
    "        return items, labels"
   ]
  },
  {
   "cell_type": "markdown",
   "metadata": {
    "id": "jpxG2dnOTTyg",
    "colab_type": "text"
   },
   "source": [
    "### Define model"
   ]
  },
  {
   "cell_type": "code",
   "execution_count": 0,
   "metadata": {
    "id": "gM_Y-WNoTXr3",
    "colab_type": "code",
    "colab": {}
   },
   "outputs": [],
   "source": [
    "# config params\n",
    "batch_size = 64\n",
    "nb_classes = 38\n",
    "nb_epoch = 200\n",
    "data_seq = True\n",
    "\n",
    "# model construction\n",
    "model = ResNet50(weights=None, classes=nb_classes)\n",
    "\n",
    "# load weights\n",
    "if os.path.exists('drive/plant-disease-detection/weights.hdf5'):\n",
    "    model.load_weights('drive/plant-disease-detection/weights.hdf5')\n",
    "    \n",
    "model.summary()\n",
    "\n",
    "adam = Adam(lr=0.001, beta_1=0.9, beta_2=0.999, epsilon=None, decay=0.0, amsgrad=False)\n",
    "model.compile(loss='categorical_crossentropy', optimizer=adam, metrics=['accuracy'])\n",
    "\n",
    "checkpointer = ModelCheckpoint(filepath='drive/plant-disease-detection/weights.hdf5', verbose=0, save_weights_only=True)"
   ]
  },
  {
   "cell_type": "markdown",
   "metadata": {
    "id": "rGlaKe-5U34a",
    "colab_type": "text"
   },
   "source": [
    "### Load data"
   ]
  },
  {
   "cell_type": "code",
   "execution_count": 0,
   "metadata": {
    "id": "H4GF7fXPU9uE",
    "colab_type": "code",
    "colab": {}
   },
   "outputs": [],
   "source": [
    "if data_seq:\n",
    "    print('Loading raw training data')\n",
    "    x_train, y_train = load_raw_data('plant-disease-dataset/train/')\n",
    "    print('Loading raw testing data')\n",
    "    x_test, y_test = load_raw_data('plant-disease-dataset/test/')\n",
    "\n",
    "    # convert class vectors to binary class matrices\n",
    "    y_train = np_utils.to_categorical(y_train, nb_classes)\n",
    "    y_test = np_utils.to_categorical(y_test, nb_classes)\n",
    "    \n",
    "    # shuffle train data\n",
    "    train_shuffle = np.arange(x_train.shape[0])\n",
    "    np.random.seed(4)\n",
    "    np.random.shuffle(train_shuffle)\n",
    "    x_train = x_train[train_shuffle]\n",
    "    y_train = y_train[train_shuffle]\n",
    "    # shuffle test data\n",
    "    test_shuffle = np.arange(x_test.shape[0])\n",
    "    np.random.seed(4)\n",
    "    np.random.shuffle(test_shuffle)\n",
    "    x_test = x_test[test_shuffle]\n",
    "    y_test = y_test[test_shuffle]\n",
    "    \n",
    "    training_seq = DataSequence(x_train, y_train, batch_size)\n",
    "    validation_seq = DataSequence(x_test, y_test, batch_size)\n",
    "\n",
    "else:\n",
    "    print('Loading training data')\n",
    "    x_train, y_train = load_data('plant-disease-dataset/train/')\n",
    "    print('Loading testing data')\n",
    "    x_test, y_test = load_data('plant-disease-dataset/test/')\n",
    "\n",
    "    # normalize images\n",
    "    x_train = x_train.astype('float32')\n",
    "    x_train /= 255\n",
    "    x_test = x_test.astype('float32')\n",
    "    x_test /= 255\n",
    "\n",
    "    # convert class vectors to binary class matrices\n",
    "    y_train = np_utils.to_categorical(y_train, nb_classes)\n",
    "    y_test = np_utils.to_categorical(y_test, nb_classes)\n",
    "                               \n",
    "    # shuffle train data\n",
    "    train_shuffle = np.arange(x_train.shape[0])\n",
    "    np.random.seed(4)\n",
    "    np.random.shuffle(train_shuffle)\n",
    "    x_train = x_train[train_shuffle]\n",
    "    y_train = y_train[train_shuffle]\n",
    "    # shuffle test data\n",
    "    test_shuffle = np.arange(x_test.shape[0])\n",
    "    np.random.seed(4)\n",
    "    np.random.shuffle(test_shuffle)\n",
    "    x_test = x_test[test_shuffle]\n",
    "    y_test = y_test[test_shuffle]"
   ]
  },
  {
   "cell_type": "markdown",
   "metadata": {
    "id": "ZBVHxTONRhgk",
    "colab_type": "text"
   },
   "source": [
    "### Training"
   ]
  },
  {
   "cell_type": "code",
   "execution_count": 0,
   "metadata": {
    "id": "V2cZ4QhutrU-",
    "colab_type": "code",
    "colab": {}
   },
   "outputs": [],
   "source": [
    "# train\n",
    "if data_seq:\n",
    "    model.fit_generator(generator=training_seq,\n",
    "                        steps_per_epoch=(len(x_train) // batch_size),\n",
    "                        epochs=nb_epoch,\n",
    "                        verbose=1,\n",
    "                        validation_data=validation_seq,\n",
    "                        validation_steps=(len(x_test) // batch_size),\n",
    "                        callbacks=[checkpointer])\n",
    "else:\n",
    "    model.fit(x_train, y_train,\n",
    "              batch_size=batch_size,\n",
    "              epochs=nb_epoch,\n",
    "              validation_data=(x_test, y_test),\n",
    "              callbacks=[checkpointer])"
   ]
  },
  {
   "cell_type": "markdown",
   "metadata": {
    "id": "mIQQrxrERm2D",
    "colab_type": "text"
   },
   "source": [
    "### Testing"
   ]
  },
  {
   "cell_type": "code",
   "execution_count": 0,
   "metadata": {
    "id": "HG1-4vp0RrDn",
    "colab_type": "code",
    "colab": {}
   },
   "outputs": [],
   "source": [
    "# test\n",
    "if data_seq:\n",
    "    score = model.evaluate_generator(generator=validation_seq, steps=(len(x_test) // batch_size))\n",
    "else:\n",
    "    score = model.evaluate(x_test, y_test, batch_size=batch_size)  \n",
    "    \n",
    "print('Score: {}'.format(score))"
   ]
  },
  {
   "cell_type": "markdown",
   "metadata": {
    "id": "efdDIRLXJ1CD",
    "colab_type": "text"
   },
   "source": [
    "### Prediction"
   ]
  },
  {
   "cell_type": "code",
   "execution_count": 0,
   "metadata": {
    "id": "lUfeupGWJf_l",
    "colab_type": "code",
    "colab": {}
   },
   "outputs": [],
   "source": [
    "# predict\n",
    "if data_seq:\n",
    "    predictions = model.predict_generator(generator=validation_seq, steps=(len(x_test) // batch_size))\n",
    "else:\n",
    "    predictions = model.predict(x_test, batch_size=batch_size)\n",
    "\n",
    "print('Predictions: {}'.format(predictions))\n",
    "\n",
    "\n",
    "# single class prediction example\n",
    "image = utils.load_img('plant-disease-dataset/test/Grape___Esca_(Black_Measles)/46270bf8-4d82-4c7e-b1ce-b7abfe81b891___FAM_B.Msls 3854.JPG', target_size=(224, 224))\n",
    "\n",
    "# normalize image\n",
    "norm_img = np.asarray(image)\n",
    "norm_img = norm_img.astype('float32')\n",
    "norm_img /= 255\n",
    "\n",
    "# predict class for the given image\n",
    "test = []\n",
    "test.append(norm_img)\n",
    "test = np.asarray(test)\n",
    "predictions = model.predict(test)\n",
    "expected_class_index = classes['Grape___Esca_(Black_Measles)']\n",
    "predicted_class_index = argmax(predictions[0])\n",
    "if expected_class_index == predicted_class_index:\n",
    "    print('Successfully predicted class for the given image ({}).'.format(max(predictions[0])))\n",
    "else:\n",
    "    print('Failed to predict correct class for the given image.')"
   ]
  },
  {
   "cell_type": "markdown",
   "metadata": {
    "id": "4flAYkS_Y-Mb",
    "colab_type": "text"
   },
   "source": [
    "### Visualization"
   ]
  },
  {
   "cell_type": "code",
   "execution_count": 0,
   "metadata": {
    "id": "F4t9WXQ87ts6",
    "colab_type": "code",
    "colab": {}
   },
   "outputs": [],
   "source": [
    "# import dependencies\n",
    "from keras import activations\n",
    "from vis.utils import utils\n",
    "from vis.visualization import visualize_saliency, overlay\n",
    "from matplotlib import pyplot as plt\n",
    "from numpy import argmax\n",
    "\n",
    "%matplotlib inline"
   ]
  },
  {
   "cell_type": "code",
   "execution_count": 0,
   "metadata": {
    "id": "JFLNeBPCKdFm",
    "colab_type": "code",
    "colab": {}
   },
   "outputs": [],
   "source": [
    "# swapping softmax with linear for better visualization\n",
    "model.layers[-1].activation = activations.linear\n",
    "model = utils.apply_modifications(model)"
   ]
  },
  {
   "cell_type": "code",
   "execution_count": 0,
   "metadata": {
    "id": "r_PdMY8Xq4g7",
    "colab_type": "code",
    "colab": {}
   },
   "outputs": [],
   "source": [
    "plt.rcParams['figure.figsize'] = (18, 6)\n",
    "f, ax = plt.subplots(1, 3)\n",
    "\n",
    "# load image\n",
    "image = utils.load_img('plant-disease-dataset/test/Grape___Esca_(Black_Measles)/46270bf8-4d82-4c7e-b1ce-b7abfe81b891___FAM_B.Msls 3854.JPG', target_size=(224, 224))\n",
    "\n",
    "# normalize image\n",
    "norm_img = np.asarray(image)\n",
    "norm_img = norm_img.astype('float32')\n",
    "norm_img /= 255\n",
    "\n",
    "# plot original image\n",
    "ax[0].axis('off')\n",
    "ax[0].imshow(image)\n",
    "\n",
    "# name of the layer we want to visualize\n",
    "layer_name = 'fc1000'\n",
    "layer_idx = utils.find_layer_idx(model, layer_name)\n",
    "\n",
    "grads = visualize_saliency(model, layer_idx, filter_indices=None, seed_input=norm_img, backprop_modifier='guided')\n",
    "\n",
    "# plot saliency heatmap  \n",
    "ax[1].axis('off')\n",
    "ax[1].imshow(grads, cmap='jet')\n",
    "\n",
    "# plot saliency heatmap over original image\n",
    "ax[2].axis('off')\n",
    "ax[2].imshow(overlay(grads, image, 0.6))"
   ]
  }
 ],
 "metadata": {
  "colab": {
   "name": "plant-disease-detection.ipynb",
   "version": "0.3.2",
   "provenance": [],
   "collapsed_sections": []
  },
  "kernelspec": {
   "name": "python3",
   "display_name": "Python 3"
  },
  "accelerator": "GPU"
 },
 "nbformat": 4,
 "nbformat_minor": 0
}